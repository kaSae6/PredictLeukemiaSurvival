{
 "cells": [
  {
   "cell_type": "markdown",
   "metadata": {},
   "source": [
    "# Exploratory Data Analysis (EDA)\n",
    "\n",
    "## Table of Contents\n",
    "1. [Dataset Overview](#dataset-overview)\n",
    "2. [Handling Missing Values](#handling-missing-values)\n",
    "3. [Feature Distributions](#feature-distributions)\n",
    "4. [Possible Biases](#possible-biases)\n",
    "5. [Correlations](#correlations)\n"
   ]
  },
  {
   "cell_type": "markdown",
   "metadata": {},
   "source": [
    ". [Correlations](#correlations)\n"
   ]
  },
  {
   "cell_type": "code",
   "execution_count": 2,
   "metadata": {},
   "outputs": [],
   "source": [
    "# Import necessary libraries\n",
    "import pandas as pd\n",
    "import numpy as np\n",
    "import matplotlib.pyplot as plt\n",
    "import seaborn as sns\n",
    "import os\n"
   ]
  },
  {
   "cell_type": "markdown",
   "metadata": {},
   "source": [
    "## Dataset Overview\n",
    "\n",
    "[Provide a high-level overview of the dataset. This should include the source of the dataset, the number of samples, the number of features, and example showing the structure of the dataset.]\n"
   ]
  },
  {
   "cell_type": "markdown",
   "metadata": {},
   "source": [
    "**Variables**:\\\n",
    "\\\n",
    "    **CLINICAL DATA** (one line per patient):\\\n",
    "        ID = unique identifier per patient\\\n",
    "        CENTER = clinical center\\\n",
    "        BM_BLAST = Bone marrow blasts in % (blasts are abnormal blood cells)\\\n",
    "        WBC = White Blood Cell count in Giga/L\\\n",
    "        ANC = Absolute Neutrophil count in Giga/L\\\n",
    "        MONOCYTES = Monocyte count in Giga/L\\\n",
    "        HB = Hemoglobin in g/dL\\\n",
    "        PLT = Platelets coutn in Giga/L\\\n",
    "        CYTOGENETICS = A description of the karyotype observed in the blood cells of the patients, measured by a cytogeneticist. Cytogenetics is the science of chromosomes. A karyotype is performed from the blood tumoral cells. The convention for notation is ISCN (https://en.wikipedia.org/wiki/International_System_for_Human_Cytogenomic_Nomenclature). Cytogenetic notation are: https://en.wikipedia.org/wiki/Cytogenetic_notation. Note that a karyotype can be normal or abnornal. The notation 46,XX denotes a normal karyotype in females (23 pairs of chromosomes including 2 chromosomes X) and 46,XY in males (23 pairs of chromosomes inclusing 1 chromosme X and 1 chromsome Y). A common abnormality in the blood cancerous cells might be for exemple a loss of chromosome 7 (monosomy 7, or -7), which is typically asssociated with higher risk disease\\\n",
    "        \\\n",
    "\n",
    "    **GENE MOLECULAR DATA** (one line per patient per somatic mutation). Mutations are detected from the sequencing of the blood tumoral cells. We call somatic (= acquired) mutations the mutations that are found in the tumoral cells but not in other cells of the body.\n",
    "\n",
    "        ID = unique identifier per patient\\\n",
    "        CHR START END = position of the mutation on the human genome\\\n",
    "        REF ALT = reference and alternate (=mutant) nucleotide\\\n",
    "        GENE = the affected gene\\\n",
    "        PROTEIN_CHANGE = the consequence of the mutation on the protei that is expressed by a given gene\\\n",
    "        EFFECT = a broad categorization of the mutation consequences on a given gene\\\n",
    "        VAF = Variant Allele Fraction = it represents the proportion of cells with the deleterious mutations\\\n",
    "\\\n",
    "**OUTCOME**:\\\n",
    "\n",
    "    OS_YEARS = Overall survival time in years\\\n",
    "    OS_STATUS = 1 (death) , 0 (alive at the last follow-up)\\\n"
   ]
  },
  {
   "cell_type": "code",
   "execution_count": 13,
   "metadata": {},
   "outputs": [
    {
     "name": "stdout",
     "output_type": "stream",
     "text": [
      "/workspaces/PredictLeukemiaSurvival/1_DatasetCharacteristics\n",
      "Number of samples in the clinical data: 3323\n",
      "Number of features in the clinical data: 9\n",
      "Number of samples in the molecular data: 10935\n",
      "Number of features in the molecular data: 11\n",
      "\n",
      "Example data (clinical):\n",
      "        ID CENTER  BM_BLAST    WBC  ANC  MONOCYTES    HB    PLT  \\\n",
      "0  P132697    MSK      14.0    2.8  0.2        0.7   7.6  119.0   \n",
      "1  P132698    MSK       1.0    7.4  2.4        0.1  11.6   42.0   \n",
      "2  P116889    MSK      15.0    3.7  2.1        0.1  14.2   81.0   \n",
      "3  P132699    MSK       1.0    3.9  1.9        0.1   8.9   77.0   \n",
      "4  P132700    MSK       6.0  128.0  9.7        0.9  11.1  195.0   \n",
      "\n",
      "                          CYTOGENETICS  \n",
      "0      46,xy,del(20)(q12)[2]/46,xy[18]  \n",
      "1                                46,xx  \n",
      "2   46,xy,t(3;3)(q25;q27)[8]/46,xy[12]  \n",
      "3    46,xy,del(3)(q26q27)[15]/46,xy[5]  \n",
      "4  46,xx,t(3;9)(p13;q22)[10]/46,xx[10]  \n",
      "\n",
      "Example data (molecular):\n",
      "        ID CHR        START          END                REF ALT    GENE  \\\n",
      "0  P100000  11  119149248.0  119149248.0                  G   A     CBL   \n",
      "1  P100000   5  131822301.0  131822301.0                  G   T    IRF1   \n",
      "2  P100000   3   77694060.0   77694060.0                  G   C   ROBO2   \n",
      "3  P100000   4  106164917.0  106164917.0                  G   T    TET2   \n",
      "4  P100000   2   25468147.0   25468163.0  ACGAAGAGGGGGTGTTC   A  DNMT3A   \n",
      "\n",
      "  PROTEIN_CHANGE                EFFECT     VAF   DEPTH  \n",
      "0        p.C419Y  non_synonymous_codon  0.0830  1308.0  \n",
      "1        p.Y164*           stop_gained  0.0220   532.0  \n",
      "2            p.?   splice_site_variant  0.4100   876.0  \n",
      "3       p.R1262L  non_synonymous_codon  0.4300   826.0  \n",
      "4   p.E505fs*141    frameshift_variant  0.0898   942.0  \n",
      "\n",
      "Example data (outcome_df)\n",
      "        ID  OS_YEARS  OS_STATUS\n",
      "0  P132697  1.115068        1.0\n",
      "1  P132698  4.928767        0.0\n",
      "2  P116889  2.043836        0.0\n",
      "3  P132699  2.476712        1.0\n",
      "4  P132700  3.145205        0.0\n"
     ]
    }
   ],
   "source": [
    "import pandas as pd\n",
    "\n",
    "# Load the data\n",
    "print(os.getcwd())\n",
    "\n",
    "# Clinical Data\n",
    "clinical_df = pd.read_csv(\"/workspaces/PredictLeukemiaSurvival/ChallengeData/X_train/clinical_train.csv\") # clinical_train\n",
    "clinical_df_eval = pd.read_csv(\"/workspaces/PredictLeukemiaSurvival/ChallengeData/X_test/clinical_test.csv\") # clinical_test\n",
    "\n",
    "# Molecular Data\n",
    "molecular_df = pd.read_csv(\"/workspaces/PredictLeukemiaSurvival/ChallengeData/X_train/molecular_train.csv\") # molecular_train\n",
    "molecular_eval = pd.read_csv(\"/workspaces/PredictLeukemiaSurvival/ChallengeData/X_test/molecular_test.csv\") # molecular_test\n",
    "\n",
    "# outcome (survival) data \n",
    "outcome_df = pd.read_csv(\"/workspaces/PredictLeukemiaSurvival/ChallengeData/target_train.csv\") # target_train\n",
    "outcome_df_test = pd.read_csv(\"/workspaces/PredictLeukemiaSurvival/ChallengeData/random_submission_FRacdcw_v9kP4pP.csv\") # target_test\n",
    "\n",
    "# Preview the data\n",
    "clinical_df.head()\n",
    "\n",
    "# Number of samples\n",
    "num_samples_clinical = clinical_df.shape[0]\n",
    "num_samples_molecular = molecular_df.shape[0]\n",
    "\n",
    "# Number of features\n",
    "num_features_clinical = clinical_df.shape[1]\n",
    "num_features_molecular = molecular_df.shape[1]\n",
    "\n",
    "# Display these dataset characteristics\n",
    "print(f\"Number of samples in the clinical data: {num_samples_clinical}\")\n",
    "print(f\"Number of features in the clinical data: {num_features_clinical}\")\n",
    "\n",
    "# Display these dataset characteristics\n",
    "print(f\"Number of samples in the molecular data: {num_samples_molecular}\")\n",
    "print(f\"Number of features in the molecular data: {num_features_molecular}\")\n",
    "\n",
    "# Display the first few rows of the dataframe to show the structure\n",
    "print(\"\\nExample data (clinical):\")\n",
    "print(clinical_df.head())\n",
    "\n",
    "print(\"\\nExample data (molecular):\")\n",
    "print(molecular_df.head())\n",
    "\n",
    "print(\"\\nExample data (outcome_df)\")\n",
    "print(outcome_df.head())\n",
    "\n"
   ]
  },
  {
   "cell_type": "markdown",
   "metadata": {},
   "source": [
    "## Handling Missing Values\n",
    "\n",
    "[Identify any missing values in the dataset, and describe your approach to handle them if there are any. If there are no missing values simply indicate that there are none.]\n"
   ]
  },
  {
   "cell_type": "code",
   "execution_count": 17,
   "metadata": {},
   "outputs": [
    {
     "name": "stdout",
     "output_type": "stream",
     "text": [
      "Missing values in the clinical data: \n",
      "ID                0\n",
      "CENTER            0\n",
      "BM_BLAST        109\n",
      "WBC             272\n",
      "ANC             193\n",
      "MONOCYTES       601\n",
      "HB              110\n",
      "PLT             124\n",
      "CYTOGENETICS    387\n",
      "dtype: int64\n",
      "\n",
      "Missing values in the molecular data: \n",
      "ID                  0\n",
      "CHR               114\n",
      "START             114\n",
      "END               114\n",
      "REF               114\n",
      "ALT               114\n",
      "GENE                0\n",
      "PROTEIN_CHANGE     12\n",
      "EFFECT              0\n",
      "VAF                89\n",
      "DEPTH             114\n",
      "dtype: int64\n",
      "\n",
      "Missing values in the outcome data: \n",
      "ID             0\n",
      "OS_YEARS     150\n",
      "OS_STATUS    150\n",
      "dtype: int64\n",
      "\n"
     ]
    }
   ],
   "source": [
    "# Check for missing values\n",
    "# clinical\n",
    "missing_values_clinical = clinical_df.isnull().sum()\n",
    "\n",
    "# molecular\n",
    "missing_values_molecular = molecular_df.isnull().sum()\n",
    "\n",
    "# outcome\n",
    "missing_values_outcome = outcome_df.isnull().sum()\n",
    "\n",
    "print(f'Missing values in the clinical data: \\n{missing_values_clinical}\\n')\n",
    "print(f'Missing values in the molecular data: \\n{missing_values_molecular}\\n')\n",
    "print(f'Missing values in the outcome data: \\n{missing_values_outcome}\\n')"
   ]
  },
  {
   "cell_type": "code",
   "execution_count": null,
   "metadata": {},
   "outputs": [],
   "source": [
    "# Handling missing values\n",
    "# Example: Replacing NaN values with the mean value of the column\n",
    "# df.fillna(df.mean(), inplace=True)\n",
    "\n",
    "# Your code for handling missing values goes here\n"
   ]
  },
  {
   "cell_type": "markdown",
   "metadata": {},
   "source": [
    "## Feature Distributions\n",
    "\n",
    "[Plot the distribution of various features and target variables. Comment on the skewness, outliers, or any other observations.]\n"
   ]
  },
  {
   "cell_type": "code",
   "execution_count": null,
   "metadata": {},
   "outputs": [],
   "source": [
    "# Example: Plotting histograms of all numerical features\n",
    "df.hist(figsize=(12, 12))\n",
    "plt.show()\n"
   ]
  },
  {
   "cell_type": "markdown",
   "metadata": {},
   "source": [
    "## Possible Biases\n",
    "\n",
    "[Investigate the dataset for any biases that could affect the model’s performance and fairness (e.g., class imbalance, historical biases).]\n"
   ]
  },
  {
   "cell_type": "code",
   "execution_count": null,
   "metadata": {},
   "outputs": [],
   "source": [
    "# Example: Checking for class imbalance in a classification problem\n",
    "# sns.countplot(x='target_variable', data=df)\n",
    "\n",
    "# Your code to investigate possible biases goes here\n"
   ]
  },
  {
   "cell_type": "markdown",
   "metadata": {},
   "source": [
    "## Correlations\n",
    "\n",
    "[Explore correlations between features and the target variable, as well as among features themselves.]\n"
   ]
  },
  {
   "cell_type": "code",
   "execution_count": null,
   "metadata": {},
   "outputs": [],
   "source": [
    "# Example: Plotting a heatmap to show feature correlations\n",
    "correlation_matrix = df.corr()\n",
    "sns.heatmap(correlation_matrix, annot=True)\n",
    "plt.show()\n"
   ]
  }
 ],
 "metadata": {
  "kernelspec": {
   "display_name": "Python 3",
   "language": "python",
   "name": "python3"
  },
  "language_info": {
   "codemirror_mode": {
    "name": "ipython",
    "version": 3
   },
   "file_extension": ".py",
   "mimetype": "text/x-python",
   "name": "python",
   "nbconvert_exporter": "python",
   "pygments_lexer": "ipython3",
   "version": "3.12.1"
  }
 },
 "nbformat": 4,
 "nbformat_minor": 2
}
